{
 "cells": [
  {
   "cell_type": "markdown",
   "metadata": {},
   "source": [
    "# Lecture 2 – Lists, conditionals and loops"
   ]
  },
  {
   "cell_type": "markdown",
   "metadata": {},
   "source": [
    "# Recap on Variables"
   ]
  },
  {
   "cell_type": "markdown",
   "metadata": {},
   "source": [
    "- A variable\n",
    "    - named cell of memory storing a single value\n",
    "    - Assigned a value using the equals symbol\n",
    "    - Can be given any name you like \n",
    "        - Except no spaces and cannot start with a number\n",
    "- Variables can hold:\n",
    "    - a string (i.e. text):\t\tmessage = \"Hello, World!\"\n",
    "    - an integer: \t\tx = 5\n",
    "    - floating-point:\t\ty = 5.3741\n",
    "- You can perform basic operations on variables\n",
    "    - z = x + y\n",
    "- You can call functions on your variables\n",
    "length = len(message)\n"
   ]
  },
  {
   "cell_type": "markdown",
   "metadata": {},
   "source": [
    "# Overview"
   ]
  },
  {
   "cell_type": "markdown",
   "metadata": {},
   "source": [
    "- Lists\n",
    "    - Very useful structure for storing data\n",
    "    - Can store multiple data types together\n",
    "    - Appending,slicing, sorting, printing\n",
    "    \n",
    "- Conditionals\n",
    "    - Can apply logic to data\n",
    "    - Boolean logic (True/False)\n",
    "    - issues with converting plain language into logical statement\n",
    "    \n",
    "- Loops\n",
    "    - for and while can be used for all sorts of applications\n",
    "    - for generally used for working with lists\n",
    "    \n",
    " - - - - - - - - - - - - - - - - - - - - - -  \n"
   ]
  },
  {
   "cell_type": "markdown",
   "metadata": {},
   "source": [
    "# LISTS"
   ]
  },
  {
   "cell_type": "markdown",
   "metadata": {},
   "source": [
    "A list of numbers: 67 78 94 45 55"
   ]
  },
  {
   "cell_type": "code",
   "execution_count": 1,
   "metadata": {
    "collapsed": false
   },
   "outputs": [
    {
     "name": "stdout",
     "output_type": "stream",
     "text": [
      "scores:  [67, 78, 94, 45, 55, 66]\n"
     ]
    }
   ],
   "source": [
    "exam_scores = [67,78,94,45,55,66]\n",
    "print(\"scores: \" ,exam_scores)"
   ]
  },
  {
   "cell_type": "markdown",
   "metadata": {},
   "source": [
    "Lists can be accessed by numerical position (aka index)\n",
    "value:    67 78 94 45 55\n",
    "position: 0  1  2  3  5\n",
    "\n",
    "You can also take \"slices\" using:\n"
   ]
  },
  {
   "cell_type": "code",
   "execution_count": 2,
   "metadata": {
    "collapsed": false
   },
   "outputs": [
    {
     "name": "stdout",
     "output_type": "stream",
     "text": [
      "score 2:  78\n",
      "score 3:  94\n",
      "score 2 & 3:  [78, 94]\n"
     ]
    }
   ],
   "source": [
    "exam_scores = [67,78,94,45,55]\n",
    "\n",
    "print(\"score 2: \" ,exam_scores[1])\n",
    "print(\"score 3: \" ,exam_scores[2])\n",
    "print(\"score 2 & 3: \" ,exam_scores[1:3])"
   ]
  },
  {
   "cell_type": "markdown",
   "metadata": {},
   "source": [
    "Slicing can also be used with strings in the same way. Just imagine that each character in the string is the same as a list element"
   ]
  },
  {
   "cell_type": "markdown",
   "metadata": {},
   "source": [
    "# Changing a list value"
   ]
  },
  {
   "cell_type": "markdown",
   "metadata": {},
   "source": [
    "Changing a value in a specific position iss similar to defining a variable"
   ]
  },
  {
   "cell_type": "code",
   "execution_count": 3,
   "metadata": {
    "collapsed": false
   },
   "outputs": [
    {
     "name": "stdout",
     "output_type": "stream",
     "text": [
      "score:  90\n"
     ]
    }
   ],
   "source": [
    "exam_scores = [67,78,94,45,55]\n",
    "exam_scores[2] = 90\n",
    "print(\"score: \" ,exam_scores[2])"
   ]
  },
  {
   "cell_type": "markdown",
   "metadata": {},
   "source": [
    "# Print all values in a list"
   ]
  },
  {
   "cell_type": "code",
   "execution_count": 4,
   "metadata": {
    "collapsed": false
   },
   "outputs": [
    {
     "name": "stdout",
     "output_type": "stream",
     "text": [
      "Here are the scores: [67, 78, 94, 45, 55]\n"
     ]
    }
   ],
   "source": [
    "exam_scores = [67,78,94,45,55]\n",
    "print (\"Here are the scores:\",exam_scores)"
   ]
  },
  {
   "cell_type": "markdown",
   "metadata": {},
   "source": [
    "Note: If you want to print all elements individually (and do something else with them), you should loop through them – later in lecture..."
   ]
  },
  {
   "cell_type": "markdown",
   "metadata": {},
   "source": [
    "# Adding to lists"
   ]
  },
  {
   "cell_type": "markdown",
   "metadata": {},
   "source": [
    "You can add values to the end of a list using the append() method\n",
    "Append is a method so it must be called on a list"
   ]
  },
  {
   "cell_type": "code",
   "execution_count": 2,
   "metadata": {
    "collapsed": false
   },
   "outputs": [
    {
     "name": "stdout",
     "output_type": "stream",
     "text": [
      "Here are the scores: [67, 78, 94, 45, 55, 32]\n"
     ]
    }
   ],
   "source": [
    "exam_scores = [67,78,94,45,55]\n",
    "exam_scores.append(32) #add a variable to this list\n",
    "print (\"Here are the scores:\",exam_scores)"
   ]
  },
  {
   "cell_type": "markdown",
   "metadata": {},
   "source": [
    "# Other useful list methods"
   ]
  },
  {
   "cell_type": "code",
   "execution_count": 6,
   "metadata": {
    "collapsed": false
   },
   "outputs": [
    {
     "name": "stdout",
     "output_type": "stream",
     "text": [
      "[67, 78, 94, 45, 55, 54, 73, 65]\n"
     ]
    }
   ],
   "source": [
    "# extend(list) - appends another list\n",
    "\n",
    "exam_scores = [67,78,94,45,55]\n",
    "exam_scores2 = [54,73,65]\n",
    "exam_scores.extend(exam_scores2)\n",
    "print (exam_scores)"
   ]
  },
  {
   "cell_type": "code",
   "execution_count": 7,
   "metadata": {
    "collapsed": false
   },
   "outputs": [
    {
     "name": "stdout",
     "output_type": "stream",
     "text": [
      "[67, 78, 94, 45, 90, 55]\n"
     ]
    }
   ],
   "source": [
    "# insert(index,item)-insert an item at a given index\n",
    "\n",
    "exam_scores = [67,78,94,45,55]\n",
    "exam_scores.insert(4,90)\n",
    "print (exam_scores)"
   ]
  },
  {
   "cell_type": "code",
   "execution_count": 8,
   "metadata": {
    "collapsed": false
   },
   "outputs": [
    {
     "name": "stdout",
     "output_type": "stream",
     "text": [
      "[67, 78, 45, 55]\n"
     ]
    }
   ],
   "source": [
    "exam_scores = [67,78,94,45,55]\n",
    "exam_scores.pop(2)\n",
    "print (exam_scores)"
   ]
  },
  {
   "cell_type": "markdown",
   "metadata": {},
   "source": [
    "Sometimes we may want to capture the popped value."
   ]
  },
  {
   "cell_type": "code",
   "execution_count": 9,
   "metadata": {
    "collapsed": false
   },
   "outputs": [
    {
     "name": "stdout",
     "output_type": "stream",
     "text": [
      "[67, 78, 45, 55]\n",
      "Popped value= 94\n"
     ]
    }
   ],
   "source": [
    "exam_scores = [67,78,94,45,55]\n",
    "popped_value = exam_scores.pop(2)\n",
    "print (exam_scores)\n",
    "print(\"Popped value=\", popped_value)"
   ]
  },
  {
   "cell_type": "code",
   "execution_count": 10,
   "metadata": {
    "collapsed": false
   },
   "outputs": [
    {
     "name": "stdout",
     "output_type": "stream",
     "text": [
      "[55, 45, 94, 78, 67]\n"
     ]
    }
   ],
   "source": [
    "exam_scores = [67,78,94,45,55]\n",
    "exam_scores.reverse()\n",
    "print (exam_scores)"
   ]
  },
  {
   "cell_type": "markdown",
   "metadata": {},
   "source": [
    "# Sorting list"
   ]
  },
  {
   "cell_type": "markdown",
   "metadata": {},
   "source": [
    "sorted() – is a built-in function and will create a new list object"
   ]
  },
  {
   "cell_type": "code",
   "execution_count": 11,
   "metadata": {
    "collapsed": false
   },
   "outputs": [
    {
     "name": "stdout",
     "output_type": "stream",
     "text": [
      "Sorted names: ['Andy', 'Ben', 'Chris', 'James', 'John', 'Thomas']\n"
     ]
    }
   ],
   "source": [
    "names = [\"James\", \"John\", \"Andy\", \"Ben\", \"Chris\", \"Thomas\"]\n",
    "sorted_names = sorted(names)\n",
    "print(\"Sorted names:\" ,sorted_names)"
   ]
  },
  {
   "cell_type": "markdown",
   "metadata": {},
   "source": [
    "sort() – is a method and will replace the original list object"
   ]
  },
  {
   "cell_type": "code",
   "execution_count": 12,
   "metadata": {
    "collapsed": false
   },
   "outputs": [
    {
     "name": "stdout",
     "output_type": "stream",
     "text": [
      "Sorted names: ['Andy', 'Ben', 'Chris', 'James', 'John', 'Thomas']\n"
     ]
    }
   ],
   "source": [
    "names = [\"James\", \"John\", \"Andy\", \"Ben\", \"Chris\", \"Thomas\"]\n",
    "names.sort()\n",
    "print(\"Sorted names:\",names)"
   ]
  },
  {
   "cell_type": "markdown",
   "metadata": {},
   "source": [
    "# Sorting lists numerically"
   ]
  },
  {
   "cell_type": "code",
   "execution_count": 13,
   "metadata": {
    "collapsed": false
   },
   "outputs": [
    {
     "name": "stdout",
     "output_type": "stream",
     "text": [
      "Sorted values: [1, 2, 4, 5, 6, 7]\n"
     ]
    }
   ],
   "source": [
    "values = [5, 7, 4, 6, 1, 2]\n",
    "sorted_values = sorted(values)\n",
    "print(\"Sorted values:\", sorted_values)"
   ]
  },
  {
   "cell_type": "markdown",
   "metadata": {},
   "source": [
    "# Sorting big to small"
   ]
  },
  {
   "cell_type": "code",
   "execution_count": 14,
   "metadata": {
    "collapsed": false
   },
   "outputs": [
    {
     "name": "stdout",
     "output_type": "stream",
     "text": [
      "Sorted values: [45, 12, 7, 6, 5, 4, 2, 1]\n"
     ]
    }
   ],
   "source": [
    "values = [5, 7, 4, 6, 1, 2, 45, 12]\n",
    "sorted_values = sorted(values,reverse=True)\n",
    "print(\"Sorted values:\", sorted_values)"
   ]
  },
  {
   "cell_type": "code",
   "execution_count": 15,
   "metadata": {
    "collapsed": false
   },
   "outputs": [
    {
     "name": "stdout",
     "output_type": "stream",
     "text": [
      "Sorted values: [45, 12, 7, 6, 5, 4, 2, 1]\n"
     ]
    }
   ],
   "source": [
    "values = [5, 7, 4, 6, 1, 2, 45, 12]\n",
    "values.sort(reverse=True)\n",
    "print(\"Sorted values:\",values)"
   ]
  },
  {
   "cell_type": "markdown",
   "metadata": {},
   "source": [
    "# Finding the length of a list"
   ]
  },
  {
   "cell_type": "code",
   "execution_count": 16,
   "metadata": {
    "collapsed": false
   },
   "outputs": [
    {
     "name": "stdout",
     "output_type": "stream",
     "text": [
      "number of scores: 5\n"
     ]
    }
   ],
   "source": [
    "exam_scores = [67,78,94,45,55]\n",
    "length = len(exam_scores)\n",
    "print(\"number of scores:\",length)"
   ]
  },
  {
   "cell_type": "markdown",
   "metadata": {},
   "source": [
    "- - - - - - - - - - - - - - - - - - - - - - - - - - - - - - - - - "
   ]
  },
  {
   "cell_type": "markdown",
   "metadata": {},
   "source": [
    "# CONDITIONALS"
   ]
  },
  {
   "cell_type": "markdown",
   "metadata": {},
   "source": [
    "- Often you will want to add logic to your programs\n",
    "- This is done with simple statements (in nearly all languages):\n",
    "    - if\n",
    "    - else\n",
    "    - elif (aka else if)\n",
    "\n",
    "- In Python, code within a conditional or a loop is denoted by a : followed by indentation (this will become clearer with examples)\n"
   ]
  },
  {
   "cell_type": "markdown",
   "metadata": {},
   "source": [
    "# Comparisons (logical operators)"
   ]
  },
  {
   "cell_type": "markdown",
   "metadata": {},
   "source": [
    "An if statement is either true or false (synonymous with 1 or 0), these are known as Boolean values."
   ]
  },
  {
   "cell_type": "code",
   "execution_count": 17,
   "metadata": {
    "collapsed": false
   },
   "outputs": [
    {
     "name": "stdout",
     "output_type": "stream",
     "text": [
      "x and y are the same\n"
     ]
    }
   ],
   "source": [
    "x = 5\n",
    "y = 5\n",
    "if x == y :\n",
    "    print(\"x and y are the same\")\n"
   ]
  },
  {
   "cell_type": "markdown",
   "metadata": {},
   "source": [
    "![title](table1.png)"
   ]
  },
  {
   "cell_type": "markdown",
   "metadata": {},
   "source": [
    "# Examples of logical operators in action"
   ]
  },
  {
   "cell_type": "code",
   "execution_count": 18,
   "metadata": {
    "collapsed": false
   },
   "outputs": [
    {
     "name": "stdout",
     "output_type": "stream",
     "text": [
      "a is not less than b\n"
     ]
    }
   ],
   "source": [
    "a = 5\n",
    "b = 4\n",
    "\n",
    "if a < b:\n",
    "    print(\"a is less than b\") #conditional block must be indented four spaces or a tab\n",
    "\n",
    "\n",
    "else:\n",
    "    print(\"a is not less than b\")\n"
   ]
  },
  {
   "cell_type": "code",
   "execution_count": 19,
   "metadata": {
    "collapsed": false
   },
   "outputs": [
    {
     "name": "stdout",
     "output_type": "stream",
     "text": [
      "names are not the same\n"
     ]
    }
   ],
   "source": [
    "name1 = \"Alistair\"\n",
    "name2 = \"Alastair\"\n",
    "\n",
    "if name1 == name2:\n",
    "    print(\"names are the same\")\n",
    "else:\n",
    "    print(\"names are not the same\")"
   ]
  },
  {
   "cell_type": "markdown",
   "metadata": {},
   "source": [
    "# Boolean logic"
   ]
  },
  {
   "cell_type": "markdown",
   "metadata": {},
   "source": [
    "- Boolean logic is used for combining conditional statements\n",
    "\n",
    "    - and\n",
    "    - or\n",
    "    - not\n",
    "\n",
    "- Used with logical operators can ask questions of almost unlimited complexity\n",
    "- Important to make sure you understand the logic of your question to combine conditions correctly\n"
   ]
  },
  {
   "cell_type": "markdown",
   "metadata": {},
   "source": [
    "# Using and\n",
    "- Code to test if both marks are greater than or equal to 70\n",
    "Code\n"
   ]
  },
  {
   "cell_type": "code",
   "execution_count": 20,
   "metadata": {
    "collapsed": false
   },
   "outputs": [
    {
     "name": "stdout",
     "output_type": "stream",
     "text": [
      "You're getting a distinction :-)\n"
     ]
    }
   ],
   "source": [
    "biol733_mark = 75\n",
    "biol734_mark = 72\n",
    "\n",
    "if biol733_mark >= 70 and biol734_mark >= 70:\n",
    "    print(\"You're getting a distinction :-)\")\n",
    "\n",
    "else:\n",
    "    print(\"You're not getting a distinction :-(\")"
   ]
  },
  {
   "cell_type": "markdown",
   "metadata": {},
   "source": [
    "# Using or\n",
    "- Code to test if either mark is less than 50"
   ]
  },
  {
   "cell_type": "code",
   "execution_count": 21,
   "metadata": {
    "collapsed": false
   },
   "outputs": [
    {
     "name": "stdout",
     "output_type": "stream",
     "text": [
      "You've failed a module :-( \n"
     ]
    }
   ],
   "source": [
    "biol733_mark = 34\n",
    "biol734_mark = 55\n",
    "\n",
    "if biol733_mark <50  or biol734_mark < 50:\n",
    "    print(\"You've failed a module :-( \")\n",
    "\n",
    "else:\n",
    "    print(\"You've passed your modules :-) \")"
   ]
  },
  {
   "cell_type": "markdown",
   "metadata": {},
   "source": [
    "# Converting English to Boolean\n",
    "\n",
    "“If the day is not Monday or Friday, I am researching”\n"
   ]
  },
  {
   "cell_type": "code",
   "execution_count": 22,
   "metadata": {
    "collapsed": false
   },
   "outputs": [
    {
     "name": "stdout",
     "output_type": "stream",
     "text": [
      "Alistair is researching\n"
     ]
    }
   ],
   "source": [
    "day = \"Monday\"\n",
    "\n",
    "if day != \"Monday\" or day != \"Friday\":\n",
    "    print(\"Alistair is researching\")\n",
    "\n",
    "else:\n",
    "    print(\"Alistair is not researching\")"
   ]
  },
  {
   "cell_type": "markdown",
   "metadata": {},
   "source": [
    "This is wrong!\n",
    "\n",
    "Statement really is:\n",
    "\n",
    "“If the day is not Monday and the day is not Friday, I am researching”\n"
   ]
  },
  {
   "cell_type": "code",
   "execution_count": 23,
   "metadata": {
    "collapsed": false
   },
   "outputs": [
    {
     "name": "stdout",
     "output_type": "stream",
     "text": [
      "Alistair is not researching\n",
      "\n"
     ]
    }
   ],
   "source": [
    "day = \"Monday\"\n",
    "\n",
    "if day != \"Monday\" and day != \"Friday\":\n",
    "    print(\"Alistair is researching\\n\")\n",
    "\n",
    "else:\n",
    "    print(\"Alistair is not researching\\n\")"
   ]
  },
  {
   "cell_type": "markdown",
   "metadata": {},
   "source": [
    "i.e. with negatives both conditions have to be true"
   ]
  },
  {
   "cell_type": "markdown",
   "metadata": {},
   "source": [
    "# Nested statements"
   ]
  },
  {
   "cell_type": "code",
   "execution_count": 24,
   "metadata": {
    "collapsed": false
   },
   "outputs": [
    {
     "name": "stdout",
     "output_type": "stream",
     "text": [
      "a equals b\n",
      "and b is less than c\n"
     ]
    }
   ],
   "source": [
    "a = 4\n",
    "b = 4\n",
    "c = 6\n",
    "\n",
    "if a == b:\n",
    "    print(\"a equals b\")\n",
    "\n",
    "    if b >= c:\n",
    "        print(\"and b is greater or equal to c\")\n",
    "\n",
    "    else:\n",
    "        print(\"and b is less than c\")\n",
    "\n",
    "else:\n",
    "    print(\"a doesn't equal b\")\n"
   ]
  },
  {
   "cell_type": "markdown",
   "metadata": {},
   "source": [
    "Note:  you can have make statements as nested and complicated as you need. BUT... \n",
    " 1. Your indentation Must be correct\n",
    " 2. Always work out your logic in advance and add comments to your code (otherwise your code won’t do what you want it to do)\n"
   ]
  },
  {
   "cell_type": "markdown",
   "metadata": {},
   "source": [
    "# Using elif\n",
    "elif is very useful if you want to test lots of conditions in order\n"
   ]
  },
  {
   "cell_type": "code",
   "execution_count": 25,
   "metadata": {
    "collapsed": false
   },
   "outputs": [
    {
     "name": "stdout",
     "output_type": "stream",
     "text": [
      "The module is Post-genomic technologies\n",
      "\n"
     ]
    }
   ],
   "source": [
    "module_code = \"BIOL734\"\n",
    "if module_code == \"BIOL007\":\n",
    "    module_name = \"Statistics for Life Science\"\n",
    "\n",
    "elif module_code == \"BIOL733\":\n",
    "    module_name = \"Perl Programming\"\n",
    "\n",
    "elif module_code == \"BIOL734\":\n",
    "    module_name = \"Post-genomic technologies\"\n",
    "\n",
    "else:\n",
    "    module_name = \"Unknown module code\"\n",
    "print(\"The module is \" + module_name + \"\\n\")"
   ]
  },
  {
   "cell_type": "markdown",
   "metadata": {},
   "source": [
    "This tests the if statement first, then the first elsif statement and so on. \n",
    "\n",
    "If no condition is matched, the else condition will be evaluated.\n"
   ]
  },
  {
   "cell_type": "markdown",
   "metadata": {},
   "source": [
    "# exit\n",
    "exit() is very useful for forcing a program to finish "
   ]
  },
  {
   "cell_type": "code",
   "execution_count": 26,
   "metadata": {
    "collapsed": false
   },
   "outputs": [
    {
     "name": "stdout",
     "output_type": "stream",
     "text": [
      "Program continues...\n",
      "\n"
     ]
    }
   ],
   "source": [
    "a = 4\n",
    "b = 5\n",
    "\n",
    "if a == b:\n",
    "    print(\"a equals b\\n\")\n",
    "\n",
    "else:\n",
    "    exit(\"Error - a doesn't equal b\\n\")\n",
    "\n",
    "print(\"Program continues...\\n\")\n"
   ]
  },
  {
   "cell_type": "markdown",
   "metadata": {},
   "source": [
    "exit is very useful for error checking in your program e.g. if you want to check that something must happen to avoid a runtime error (remember example of dividing by zero last week...)\n",
    "\n",
    "- - - - - - - - - - - - - - - - - - - - - - - - - - - - - - - - - "
   ]
  },
  {
   "cell_type": "markdown",
   "metadata": {},
   "source": [
    "# LOOPS"
   ]
  },
  {
   "cell_type": "markdown",
   "metadata": {
    "nbpresent": {
     "id": "151ebfdf-0a92-492f-924f-e60f2de5e64a"
    }
   },
   "source": [
    "# Looping structures"
   ]
  },
  {
   "cell_type": "markdown",
   "metadata": {
    "nbpresent": {
     "id": "a07e7b29-af95-43dc-b07d-9e9ef48c9f15"
    }
   },
   "source": [
    "Two main structures in Python\n",
    "\n",
    "- for\n",
    "\n",
    "- while\n",
    "\n",
    "\n",
    "- for\n",
    "\n",
    "    - Used for repeating code a number of times or iterating over items in an object such as a list\n",
    "\n",
    "- while\n",
    "\n",
    "    - Used for looping in a conditional manner\n"
   ]
  },
  {
   "cell_type": "markdown",
   "metadata": {},
   "source": [
    "# for loops"
   ]
  },
  {
   "cell_type": "code",
   "execution_count": 27,
   "metadata": {
    "collapsed": false
   },
   "outputs": [
    {
     "name": "stdout",
     "output_type": "stream",
     "text": [
      "Row number 1\n",
      "Row number 2\n",
      "Row number 3\n",
      "Row number 4\n",
      "Row number 5\n"
     ]
    }
   ],
   "source": [
    "for x in range(1, 6):\n",
    "    print(\"Row number \" + str(x))"
   ]
  },
  {
   "cell_type": "markdown",
   "metadata": {},
   "source": [
    "Note: As with conditionals, indentation is crucial to denote the code that you want to run within the loop"
   ]
  },
  {
   "cell_type": "markdown",
   "metadata": {},
   "source": [
    "- for initiates the loop\n",
    "- x is a variable that represents the current loop item (in this case an integer representing the number of the loop)\n",
    "- range() creates a list of numbers between two given integers "
   ]
  },
  {
   "cell_type": "markdown",
   "metadata": {},
   "source": [
    "# Loop through a list"
   ]
  },
  {
   "cell_type": "code",
   "execution_count": 28,
   "metadata": {
    "collapsed": false
   },
   "outputs": [
    {
     "name": "stdout",
     "output_type": "stream",
     "text": [
      "score 1: 67\n",
      "score 2: 78\n",
      "score 3: 94\n",
      "score 4: 45\n",
      "score 5: 55\n"
     ]
    }
   ],
   "source": [
    "exam_scores = [67,78,94,45,55]\n",
    "\n",
    "counter = 1\n",
    "for x in exam_scores:\n",
    "    print(\"score \" + str(counter) + \": \" + str(x))\n",
    "    counter +=1 # “+=“ is the same as counter = counter + 1  incrementing"
   ]
  },
  {
   "cell_type": "markdown",
   "metadata": {},
   "source": [
    "# while loops\n",
    "\n",
    "- while loops are completely flexible:\n",
    "    - you can use whatever conditional statement you like\n",
    "    - you need to ensure that you have the correct logic for making sure the loop ends at some point"
   ]
  },
  {
   "cell_type": "code",
   "execution_count": 29,
   "metadata": {
    "collapsed": false
   },
   "outputs": [
    {
     "name": "stdout",
     "output_type": "stream",
     "text": [
      "The value of a is  1\n",
      "The value of a is  2\n",
      "The value of a is  3\n",
      "The value of a is  4\n"
     ]
    }
   ],
   "source": [
    "a = 1\n",
    "\n",
    "while a < 5:\n",
    "    print(\"The value of a is \",a)\n",
    "    a+=1\n"
   ]
  },
  {
   "cell_type": "markdown",
   "metadata": {},
   "source": [
    "while loops are used a lot for reading from files (lecture 5) – the conditional statement is that you keep reading until there are no lines left in the file"
   ]
  },
  {
   "cell_type": "markdown",
   "metadata": {},
   "source": [
    "# Loops that never end...\n",
    "- Need to be careful that your loops actually finish"
   ]
  },
  {
   "cell_type": "code",
   "execution_count": 30,
   "metadata": {
    "collapsed": true
   },
   "outputs": [],
   "source": [
    "# a = 1\n",
    "\n",
    "# while 4<5:\n",
    "#    print(\"The value of a is \",a)\n",
    "#    a+=1"
   ]
  },
  {
   "cell_type": "markdown",
   "metadata": {},
   "source": [
    "The value of a is 1\n",
    "The value of a is 2\n",
    "The value of a is 3\n",
    "\n",
    ".... \n",
    "\n",
    "Does not stop\n",
    "\n",
    "Note: If your program doesn’t finish for any reason or gets into an infinite loop:  In PyCharm you can hit the stop button in the bottom left hand corner\n",
    "\n",
    "On the command line - you can terminate by pressing Ctrl + C (or by closing the command prompt window)\n",
    "\n"
   ]
  },
  {
   "cell_type": "markdown",
   "metadata": {},
   "source": [
    "# Summary"
   ]
  },
  {
   "cell_type": "markdown",
   "metadata": {
    "collapsed": true
   },
   "source": [
    "- Lists\n",
    "    - Very useful structure for storing data\n",
    "    - Manipulating, sorting, printing\n",
    "- Conditionals\n",
    "    - Can ask complex (unlimited) questions of data\n",
    "    - Boolean logic\n",
    "    - issues with converting plain language into logical statement\n",
    "- Loops\n",
    "    - for and while can be used for all sorts of applications\n",
    "    - extremely useful when working with large data files\n",
    "    \n",
    "____________________________________________________________________"
   ]
  }
 ],
 "metadata": {
  "anaconda-cloud": {},
  "kernelspec": {
   "display_name": "Python [default]",
   "language": "python",
   "name": "python3"
  },
  "language_info": {
   "codemirror_mode": {
    "name": "ipython",
    "version": 3
   },
   "file_extension": ".py",
   "mimetype": "text/x-python",
   "name": "python",
   "nbconvert_exporter": "python",
   "pygments_lexer": "ipython3",
   "version": "3.5.2"
  },
  "nbpresent": {
   "slides": {
    "4766f578-0a98-4785-9068-af9394f59911": {
     "id": "4766f578-0a98-4785-9068-af9394f59911",
     "prev": "6d16c3c4-a69d-4b50-af53-9bdf5dc93495",
     "regions": {
      "406fbe7e-dbac-4cf8-8a5c-32fa6ee48ab4": {
       "attrs": {
        "height": 0.8,
        "width": 0.8,
        "x": 0.1,
        "y": 0.1
       },
       "content": {
        "cell": "a07e7b29-af95-43dc-b07d-9e9ef48c9f15",
        "part": "whole"
       },
       "id": "406fbe7e-dbac-4cf8-8a5c-32fa6ee48ab4"
      }
     }
    },
    "59583b8a-8e20-48ef-94bc-85bf44119a52": {
     "id": "59583b8a-8e20-48ef-94bc-85bf44119a52",
     "prev": "4766f578-0a98-4785-9068-af9394f59911",
     "regions": {
      "4ecfb714-9504-4783-93b7-4d0e99d120c8": {
       "attrs": {
        "height": 0.8,
        "width": 0.8,
        "x": 0.1,
        "y": 0.1
       },
       "content": {
        "cell": "6c8ea7d7-0670-493e-a206-a3c3d39a0e03",
        "part": "whole"
       },
       "id": "4ecfb714-9504-4783-93b7-4d0e99d120c8"
      }
     }
    },
    "6d16c3c4-a69d-4b50-af53-9bdf5dc93495": {
     "id": "6d16c3c4-a69d-4b50-af53-9bdf5dc93495",
     "prev": null,
     "regions": {
      "d4b1fcf0-141f-45c3-9aa5-4b7a491179ff": {
       "attrs": {
        "height": 0.8,
        "width": 0.8,
        "x": 0.1,
        "y": 0.1
       },
       "content": {
        "cell": "151ebfdf-0a92-492f-924f-e60f2de5e64a",
        "part": "whole"
       },
       "id": "d4b1fcf0-141f-45c3-9aa5-4b7a491179ff"
      }
     }
    }
   },
   "themes": {
    "default": "3be93ed6-7fbb-4206-8803-391395fa7971",
    "theme": {}
   }
  }
 },
 "nbformat": 4,
 "nbformat_minor": 1
}
