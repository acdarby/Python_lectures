{
 "cells": [
  {
   "cell_type": "markdown",
   "metadata": {
    "nbpresent": {
     "id": "151ebfdf-0a92-492f-924f-e60f2de5e64a"
    }
   },
   "source": [
    "# Dictionaries, lists and looping structures"
   ]
  },
  {
   "cell_type": "markdown",
   "metadata": {},
   "source": [
    "# Overview"
   ]
  },
  {
   "cell_type": "markdown",
   "metadata": {},
   "source": [
    "### Recap:\n",
    "- Dictionary\n",
    "    - Structure for storing values with keys\n",
    "\n",
    "- List\n",
    "    - Structure for storing ordered values\n",
    "    \n",
    "- Loop (for/while)\n",
    "    - Allows iterative processing (e.g. line-by-line)\n",
    "\n"
   ]
  },
  {
   "cell_type": "markdown",
   "metadata": {},
   "source": [
    "# Recap on strings, printing etc..."
   ]
  },
  {
   "cell_type": "code",
   "execution_count": 23,
   "metadata": {
    "collapsed": false
   },
   "outputs": [
    {
     "name": "stdout",
     "output_type": "stream",
     "text": [
      "My message is: Hello world\n"
     ]
    }
   ],
   "source": [
    "message = \"Hello world\"\n",
    "print (\"My message is:\", message)"
   ]
  },
  {
   "cell_type": "markdown",
   "metadata": {},
   "source": [
    "Vanilla use of print "
   ]
  },
  {
   "cell_type": "code",
   "execution_count": 24,
   "metadata": {
    "collapsed": false
   },
   "outputs": [
    {
     "name": "stdout",
     "output_type": "stream",
     "text": [
      "My 1st message is: Hello world\n",
      "My 2nd message is: Hello world\n"
     ]
    }
   ],
   "source": [
    "message = \"Hello world\"\n",
    "print (\"My 1st message is:\", message)\n",
    "print (\"My 2nd message is: %s\" % message)"
   ]
  },
  {
   "cell_type": "markdown",
   "metadata": {},
   "source": [
    "The second print uses a “formatter” (%s, %r and %d) \n",
    "which provide an alternative way to print by replacing the symbol with the desired variable after a %. \n",
    "When printing many variables in a single statement they can be much more efficient."
   ]
  },
  {
   "cell_type": "code",
   "execution_count": 25,
   "metadata": {
    "collapsed": false
   },
   "outputs": [
    {
     "name": "stdout",
     "output_type": "stream",
     "text": [
      "My 1st message is: Hello world. My 2nd message is: Hello world \n"
     ]
    }
   ],
   "source": [
    "message = \"Hello world\"\n",
    "print (\"My 1st message is:\", message, end=\". \")\n",
    "print (\"My 2nd message is: %s \" % message)"
   ]
  },
  {
   "cell_type": "markdown",
   "metadata": {},
   "source": [
    "Python adds a newline character (\\n) after every print statement by default. \n",
    "You can suppress this by adding the argument: end=\"\""
   ]
  },
  {
   "cell_type": "markdown",
   "metadata": {},
   "source": [
    "# More on strings, printing etc..."
   ]
  },
  {
   "cell_type": "code",
   "execution_count": 26,
   "metadata": {
    "collapsed": false
   },
   "outputs": [
    {
     "name": "stdout",
     "output_type": "stream",
     "text": [
      "Romissa has 30 donuts\n"
     ]
    }
   ],
   "source": [
    "Name = \"Romissa\"\n",
    "Donut_number = 30\n",
    "print(\"%s has %d donuts\" % (Name, Donut_number))"
   ]
  },
  {
   "cell_type": "markdown",
   "metadata": {},
   "source": [
    "%s is intended for string substitution whereas %d is for integers. r% converts using the repr() function rather than str() or int() and is useful when you want to return something in valid Python syntax (see next)\n"
   ]
  },
  {
   "cell_type": "code",
   "execution_count": 27,
   "metadata": {
    "collapsed": false
   },
   "outputs": [
    {
     "name": "stdout",
     "output_type": "stream",
     "text": [
      "2017-02-09 datetime.date(2017, 2, 9)\n",
      "2017-02-09 datetime.date(2017, 2, 9)\n"
     ]
    }
   ],
   "source": [
    "import datetime\n",
    "date = datetime.date.today()\n",
    "a = str(date)\n",
    "b = repr(date)\n",
    "print(a, end=\" \")\n",
    "print(b)\n",
    "print(\"%s %r\" % (date, date))"
   ]
  },
  {
   "cell_type": "markdown",
   "metadata": {},
   "source": [
    "Don’t worry about datetime, it’s just to illustrate the difference between repr() and str() or %s and %d\n",
    "\n",
    "Think about why there are three print statements but only two lines of output\n"
   ]
  },
  {
   "cell_type": "markdown",
   "metadata": {},
   "source": [
    "# Recap on maths"
   ]
  },
  {
   "cell_type": "code",
   "execution_count": 28,
   "metadata": {
    "collapsed": false
   },
   "outputs": [
    {
     "name": "stdout",
     "output_type": "stream",
     "text": [
      "Result 1 =  50\n",
      "Result 2 =  9765625\n",
      "Result 3 =  , x ** y  \n"
     ]
    }
   ],
   "source": [
    "x = 5\n",
    "y = 10\n",
    "print(\"Result 1 = \" , x * y )\n",
    "print(\"Result 2 = \" , x ** y ) # ** - meaning “to the power of”\n",
    "print(\"Result 3 =  , x ** y  \")"
   ]
  },
  {
   "cell_type": "markdown",
   "metadata": {},
   "source": [
    "Small mistakes can be difficult to spot. You will avoid and spot these mistakes with practice."
   ]
  },
  {
   "cell_type": "markdown",
   "metadata": {},
   "source": [
    "# Recap on lists"
   ]
  },
  {
   "cell_type": "markdown",
   "metadata": {},
   "source": [
    "- A list stores an ordered list of values\n",
    "- Loop through all elements using for\n",
    "- Useful array functions:\n",
    "    - extend(list) - adds a list to the end of a list\n",
    "\n",
    "    - append(value) - adds a value to the end of a list\n",
    "    \n",
    "    - Also insert(index, value) and pop(index)\n",
    "\n",
    "    - sort \n",
    "        - sorted_names = sorted(names) \t#using the function\n",
    "        - names.sort() \t\t\t\t\t#using the method\n"
   ]
  },
  {
   "cell_type": "markdown",
   "metadata": {},
   "source": [
    "# Recap on list methods"
   ]
  },
  {
   "cell_type": "code",
   "execution_count": 29,
   "metadata": {
    "collapsed": false
   },
   "outputs": [
    {
     "name": "stdout",
     "output_type": "stream",
     "text": [
      "[5, 7, 4, 6, 1, 2]\n",
      "6\n",
      "5\n",
      "7\n",
      "4\n",
      "6\n",
      "1\n",
      "2\n"
     ]
    }
   ],
   "source": [
    "values = [5, 7, 4, 6, 1, 2]\n",
    "\n",
    "print (values)\n",
    "\n",
    "print(values[3]) #By the position\n",
    "\n",
    "for temp_value in values: #Using a loop\n",
    "    print (temp_value)"
   ]
  },
  {
   "cell_type": "markdown",
   "metadata": {},
   "source": [
    "Two common ways to access elements in an array:\n",
    "\n",
    "By the position (a.k.a. index)  -  values[2]\n",
    "\n",
    "or \n",
    "\n",
    "Use a loop to grab every value and put it into a temporary variable (here called temp_value"
   ]
  },
  {
   "cell_type": "markdown",
   "metadata": {},
   "source": [
    "# Recap on list methods"
   ]
  },
  {
   "cell_type": "code",
   "execution_count": 30,
   "metadata": {
    "collapsed": false
   },
   "outputs": [
    {
     "name": "stdout",
     "output_type": "stream",
     "text": [
      "Andy\n",
      "['Bob', 'Chris']\n"
     ]
    }
   ],
   "source": [
    "names = [\"Andy\", \"Bob\", \"Chris\"]\n",
    "\n",
    "removed_name = names.pop(0)\n",
    "print (removed_name)\n",
    "print(names)"
   ]
  },
  {
   "cell_type": "markdown",
   "metadata": {},
   "source": [
    "The opposite of list.pop(index) is list.insert(index,value)"
   ]
  },
  {
   "cell_type": "markdown",
   "metadata": {},
   "source": [
    "# Adding to arrays in a loop"
   ]
  },
  {
   "cell_type": "code",
   "execution_count": 31,
   "metadata": {
    "collapsed": false
   },
   "outputs": [
    {
     "name": "stdout",
     "output_type": "stream",
     "text": [
      "[1, 4, 7, 10, 13, 16, 19, 22]\n"
     ]
    }
   ],
   "source": [
    "numbers = []\n",
    "\n",
    "for i in range(1,24,3):\n",
    "    numbers.append(i)\n",
    "\n",
    "print(numbers)"
   ]
  },
  {
   "cell_type": "markdown",
   "metadata": {},
   "source": [
    "A list needs to be created (a.k.a. initialised) before you can apply methods to it. \n",
    "\n",
    "Initialising the list before running the loop is important. If we had tried to initialise within the loop structure the list would be reset after each iteration of the loop!\n"
   ]
  },
  {
   "cell_type": "markdown",
   "metadata": {},
   "source": [
    "# Dictionaries"
   ]
  },
  {
   "cell_type": "markdown",
   "metadata": {},
   "source": [
    "- Dictionaries are a lookup key-value system:\n",
    "    - Very similar to a list except the index is replaced by a defined key\n",
    "    - The keys and values can be anything you like.\n",
    "    - However, keys must be unique.\n",
    "\n",
    "- Simple to declare:\n",
    "    - A variable: Value = 10\n",
    "    - A list: Values = [10,11,12,13]\n",
    "    - A dictionary: Value_lookup = {\"Apple\" : \"Pie\", \"Banana\" : \"split\", 3 : 60}\n",
    "\n",
    "You can retrieve elements from a list using their numerical index whereas a dictionary can use any value specified by the programmer.\n",
    "\n",
    "Declaring a dictionary requires curly braces {} and a colon : between key and value\n"
   ]
  },
  {
   "cell_type": "markdown",
   "metadata": {},
   "source": [
    "# Dictionary example"
   ]
  },
  {
   "cell_type": "code",
   "execution_count": 32,
   "metadata": {
    "collapsed": false
   },
   "outputs": [
    {
     "name": "stdout",
     "output_type": "stream",
     "text": [
      "John Smith\n"
     ]
    }
   ],
   "source": [
    "student_records = {20071213: \"Andy Jones\"} # declaring a dictionary \n",
    "student_records[20081423] = \"John Smith\"   # adding some more records\n",
    "student_records[20096137] = \"Jane Doe\"\n",
    "student_records[20109334] = \"Fred Blogs\"\n",
    "\n",
    "print(student_records[20081423])           # printing a specific record\n"
   ]
  },
  {
   "cell_type": "markdown",
   "metadata": {},
   "source": [
    "# Dictionary advanced"
   ]
  },
  {
   "cell_type": "code",
   "execution_count": 33,
   "metadata": {
    "collapsed": false
   },
   "outputs": [
    {
     "name": "stdout",
     "output_type": "stream",
     "text": [
      "['Fred Blogs', 'Frederick Blogs', 'F. J. Blogs']\n",
      "Fred Blogs Frederick Blogs F. J. Blogs "
     ]
    }
   ],
   "source": [
    "student_records = {20071213: [\"Andy Jones\", \"Andrew Jones\"]}\n",
    "student_records[20081423] = [\"John Smith\", \"J. L. Smith\"]\n",
    "student_records[20096137] = [\"Jane Doe\", \"J. P. Doe\"]\n",
    "student_records[20109334] = [\"Fred Blogs\",\"Frederick Blogs\",\"F. J. Blogs\"]\n",
    "\n",
    "print(student_records[20109334])        # print the list for this specific key\n",
    "for name in student_records[20109334]:  # iterate through the list and print \n",
    "    print(name, end=\" \")                # each value"
   ]
  },
  {
   "cell_type": "markdown",
   "metadata": {},
   "source": [
    "Sometimes you’ll find you need a data structure more complex than a dictionary\n",
    "More advanced data structures can be created by combining simpler structures e.g. a dictionary of lists"
   ]
  },
  {
   "cell_type": "markdown",
   "metadata": {},
   "source": [
    "# Codon table"
   ]
  },
  {
   "cell_type": "raw",
   "metadata": {},
   "source": [
    "TTT F Phe\tTTC F Phe\tTTA L Leu\tTTG L Leu\t\n",
    "TCT S Ser\tTCC S Ser\tTCA S Ser\tTCG S Ser\t\n",
    "TAT Y Tyr\tTAC Y Tyr\tTAA * Ter\tTAG * Ter\t\n",
    "TGT C Cys\tTGC C Cys\tTGA * Ter\tTGG W Trp\t\n",
    "\n",
    "CTT L Leu\tCTC L Leu\tCTA L Leu\tCTG L Leu\t\n",
    "CCT P Pro\tCCC P Pro\tCCA P Pro\tCCG P Pro\t\n",
    "CAT H His\tCAC H His\tCAA Q Gln\tCAG Q Gln\t\n",
    "CGT R Arg\tCGC R Arg\tCGA R Arg\tCGG R Arg\t\n",
    "\n",
    "ATT I Ile\tATC I Ile\tATA I Ile\tATG M Met\t\n",
    "ACT T Thr\tACC T Thr\tACA T Thr\tACG T Thr\t\n",
    "AAT N Asn\tAAC N Asn\tAAA K Lys\tAAG K Lys\t\n",
    "AGT S Ser\tAGC S Ser\tAGA R Arg\tAGG R Arg\t\n",
    "\n",
    "GTT V Val\tGTC V Val\tGTA V Val\tGTG V Val\t\n",
    "GCT A Ala\tGCC A Ala\tGCA A Ala\tGCG A Ala\t\n",
    "GAT D Asp\tGAC D Asp\tGAA E Glu\tGAG E Glu\t\n",
    "GGT G Gly\tGGC G Gly\tGGA G Gly\tGGG G Gly\n"
   ]
  },
  {
   "cell_type": "code",
   "execution_count": 34,
   "metadata": {
    "collapsed": false
   },
   "outputs": [
    {
     "name": "stdout",
     "output_type": "stream",
     "text": [
      "CTC encodes Leu\n",
      "CTC encodes Leu\n"
     ]
    }
   ],
   "source": [
    "codons = {\n",
    "       \"ATT\" : \"Ile\",\n",
    "       \"ATC\" : \"Ile\",\n",
    "       \"ATA\" : \"Ile\",\n",
    "       \"CTT\" : \"Leu\",\n",
    "       \"CTC\" : \"Leu\",\n",
    "       \"CTA\" : \"Leu\",\n",
    "       \"CTG\" : \"Leu\",\n",
    "     #... And so on...\n",
    "        }\n",
    "\n",
    "Codon_1 = \"CTC\"\n",
    "print(\"%s encodes %s\" % (Codon_1, codons[Codon_1]))\n",
    "print(Codon_1, \"encodes\", codons[Codon_1])"
   ]
  },
  {
   "cell_type": "markdown",
   "metadata": {},
   "source": [
    "The two print statements illustrate alternatives\n",
    "\n",
    "When using multiple formatters, variables are provided in order within brackets\n",
    "\n",
    "Be careful with multiple parentheses! \n"
   ]
  },
  {
   "cell_type": "markdown",
   "metadata": {},
   "source": [
    "# Get dictionary size – keys method"
   ]
  },
  {
   "cell_type": "code",
   "execution_count": 35,
   "metadata": {
    "collapsed": false
   },
   "outputs": [
    {
     "name": "stdout",
     "output_type": "stream",
     "text": [
      "Total number of students = 3\n",
      "dict_keys([20096137, 20071213, 20081423])\n"
     ]
    },
    {
     "ename": "TypeError",
     "evalue": "'list' object is not callable",
     "output_type": "error",
     "traceback": [
      "\u001b[0;31m---------------------------------------------------------------------------\u001b[0m",
      "\u001b[0;31mTypeError\u001b[0m                                 Traceback (most recent call last)",
      "\u001b[0;32m<ipython-input-35-20e34be72161>\u001b[0m in \u001b[0;36m<module>\u001b[0;34m()\u001b[0m\n\u001b[1;32m      5\u001b[0m \u001b[0mprint\u001b[0m\u001b[0;34m(\u001b[0m\u001b[0;34m\"Total number of students =\"\u001b[0m \u001b[0;34m,\u001b[0m \u001b[0mlen\u001b[0m\u001b[0;34m(\u001b[0m\u001b[0mstudent_records\u001b[0m\u001b[0;34m.\u001b[0m\u001b[0mkeys\u001b[0m\u001b[0;34m(\u001b[0m\u001b[0;34m)\u001b[0m\u001b[0;34m)\u001b[0m\u001b[0;34m)\u001b[0m\u001b[0;34m\u001b[0m\u001b[0m\n\u001b[1;32m      6\u001b[0m \u001b[0mprint\u001b[0m\u001b[0;34m(\u001b[0m\u001b[0mstudent_records\u001b[0m\u001b[0;34m.\u001b[0m\u001b[0mkeys\u001b[0m\u001b[0;34m(\u001b[0m\u001b[0;34m)\u001b[0m\u001b[0;34m)\u001b[0m\u001b[0;34m\u001b[0m\u001b[0m\n\u001b[0;32m----> 7\u001b[0;31m \u001b[0mprint\u001b[0m\u001b[0;34m(\u001b[0m\u001b[0mlist\u001b[0m\u001b[0;34m(\u001b[0m\u001b[0mstudent_records\u001b[0m\u001b[0;34m.\u001b[0m\u001b[0mkeys\u001b[0m\u001b[0;34m(\u001b[0m\u001b[0;34m)\u001b[0m\u001b[0;34m)\u001b[0m\u001b[0;34m)\u001b[0m\u001b[0;34m\u001b[0m\u001b[0m\n\u001b[0m",
      "\u001b[0;31mTypeError\u001b[0m: 'list' object is not callable"
     ]
    }
   ],
   "source": [
    "student_records = {20071213: \"Andy Jones\"}\n",
    "student_records[20081423] = \"John Smith\"\n",
    "student_records[20096137] = \"Jane Doe\"\n",
    "\n",
    "print(\"Total number of students =\" , len(student_records.keys()))\n",
    "print(student_records.keys()) \n",
    "print(list(student_records.keys()))"
   ]
  },
  {
   "cell_type": "markdown",
   "metadata": {},
   "source": [
    "The keys() method returns a view of the keys which can be looped through like a list or turned into a list"
   ]
  },
  {
   "cell_type": "markdown",
   "metadata": {},
   "source": [
    "# delete a record from a dictionary"
   ]
  },
  {
   "cell_type": "code",
   "execution_count": null,
   "metadata": {
    "collapsed": false
   },
   "outputs": [],
   "source": [
    "student_records = {20071213: \"Andy Jones\", \n",
    "                   20081423 : \"John Smith\", \n",
    "                   20096137 :\"Jane Doe\"}\n",
    "\n",
    "del student_records[20081423]\n",
    "print(\"Total number of students = \" , len(student_records.keys()))"
   ]
  },
  {
   "cell_type": "code",
   "execution_count": null,
   "metadata": {
    "collapsed": false
   },
   "outputs": [],
   "source": [
    "student_records = {20071213: \"Andy Jones\", \n",
    "                    20081423 : \"John Smith\", \n",
    "                    20096137 :\"Jane Doe\"}\n",
    "\n",
    "for name in student_records.keys():\n",
    "     print(name, \":\", student_records[name])"
   ]
  },
  {
   "cell_type": "markdown",
   "metadata": {},
   "source": [
    "Here we setup a temporary key (called name) and then loop through every key, retrieving the corresponding value for each key"
   ]
  },
  {
   "cell_type": "markdown",
   "metadata": {},
   "source": [
    "# Loop through a dictionary with for"
   ]
  },
  {
   "cell_type": "code",
   "execution_count": null,
   "metadata": {
    "collapsed": false
   },
   "outputs": [],
   "source": [
    "student_records = {20071213: \"Andy Jones\", \n",
    "                    20081423 : \"John Smith\", \n",
    "                    20096137 :\"Jane Doe\"}\n",
    "\n",
    "for name in student_records.keys():\n",
    "     print(name, \":\", student_records[name])"
   ]
  },
  {
   "cell_type": "markdown",
   "metadata": {},
   "source": [
    "Here we setup a temporary key (called name) and then loop through every key, retrieving the corresponding value for each key"
   ]
  },
  {
   "cell_type": "markdown",
   "metadata": {},
   "source": [
    "# Manipulating strings"
   ]
  },
  {
   "cell_type": "markdown",
   "metadata": {},
   "source": [
    "Slicing is very useful for manipulating strings and lists"
   ]
  },
  {
   "cell_type": "code",
   "execution_count": null,
   "metadata": {
    "collapsed": false
   },
   "outputs": [],
   "source": [
    "DNA = \"ACTGATCGACTGATCGATCGA\"\n",
    "\n",
    "for index in range(0, len(DNA), 3): # Remember - range requires the arguments (start, stop,  step). Step has a default value of 1 \n",
    "\n",
    "    chunk = DNA[index:index+3] # Remember - you can slice a string by giving [start:stop] indexes\n",
    "    print(chunk,end=\" \")"
   ]
  },
  {
   "cell_type": "markdown",
   "metadata": {},
   "source": [
    "- The index method can be used to find the position of specific substrings"
   ]
  },
  {
   "cell_type": "code",
   "execution_count": null,
   "metadata": {
    "collapsed": false
   },
   "outputs": [],
   "source": [
    "DNA = \"ACTGATCGACTGATCGATCGA\"\n",
    "print(\"Index for CGA : \", DNA.index( \"CGA\" ))\n",
    "print(\"Index for GAT : \", DNA.index( \"GAT\" ))"
   ]
  },
  {
   "cell_type": "markdown",
   "metadata": {},
   "source": [
    "Remember – the numbering starts from 0!"
   ]
  },
  {
   "cell_type": "markdown",
   "metadata": {},
   "source": [
    "- index() and slicing can also be used with lists"
   ]
  },
  {
   "cell_type": "code",
   "execution_count": null,
   "metadata": {
    "collapsed": false
   },
   "outputs": [],
   "source": [
    "list = [\"ATG\", \"GAC\", \"TTG\"]\n",
    "print(\"Index for TTG : \", list.index( \"TTG\" ))\n",
    "print(\"Index for ATG : \", list.index( \"ATG\" ))"
   ]
  },
  {
   "cell_type": "markdown",
   "metadata": {},
   "source": [
    "Remember – the numbering starts from 0!"
   ]
  },
  {
   "cell_type": "markdown",
   "metadata": {},
   "source": [
    "# Incrementally adding to a string"
   ]
  },
  {
   "cell_type": "code",
   "execution_count": null,
   "metadata": {
    "collapsed": false
   },
   "outputs": [],
   "source": [
    "import random                        #Import the random module\n",
    "dna = \"GCTAGCTACGTACGATCGT\"          #Starting string\n",
    "\n",
    "for i in range(0,10):                #Loop to 10 starting from 0\n",
    "    dna += random.choice(\"CGTA\")     #Choose a random base and add it\n",
    "\n",
    "print(dna)"
   ]
  },
  {
   "cell_type": "code",
   "execution_count": null,
   "metadata": {
    "collapsed": true
   },
   "outputs": [],
   "source": [
    "Output will be different every time"
   ]
  },
  {
   "cell_type": "markdown",
   "metadata": {},
   "source": [
    "Don’t worry about the random bit. It’s just an example of some useful code that’s already been written. It’s more important to understand what the rest of the code is doing than how random.choice() works at this stage.\n",
    "\n",
    "Randomly generated DNA sequence can be very useful – e.g. if you are trying to establish whether a certain pattern occurs more often than expected by chance\n"
   ]
  },
  {
   "cell_type": "markdown",
   "metadata": {},
   "source": [
    "# Summary"
   ]
  },
  {
   "cell_type": "markdown",
   "metadata": {},
   "source": [
    "- Printing with formatters\n",
    "- Dictionaries\n",
    "    - Very useful and flexible structure for storing keys and values\n",
    "- index() method and slicing\n",
    "- Use of methods inside loops"
   ]
  }
 ],
 "metadata": {
  "anaconda-cloud": {},
  "kernelspec": {
   "display_name": "Python [conda root]",
   "language": "python",
   "name": "conda-root-py"
  },
  "language_info": {
   "codemirror_mode": {
    "name": "ipython",
    "version": 3
   },
   "file_extension": ".py",
   "mimetype": "text/x-python",
   "name": "python",
   "nbconvert_exporter": "python",
   "pygments_lexer": "ipython3",
   "version": "3.5.2"
  },
  "nbpresent": {
   "slides": {
    "4766f578-0a98-4785-9068-af9394f59911": {
     "id": "4766f578-0a98-4785-9068-af9394f59911",
     "prev": "6d16c3c4-a69d-4b50-af53-9bdf5dc93495",
     "regions": {
      "406fbe7e-dbac-4cf8-8a5c-32fa6ee48ab4": {
       "attrs": {
        "height": 0.8,
        "width": 0.8,
        "x": 0.1,
        "y": 0.1
       },
       "content": {
        "cell": "a07e7b29-af95-43dc-b07d-9e9ef48c9f15",
        "part": "whole"
       },
       "id": "406fbe7e-dbac-4cf8-8a5c-32fa6ee48ab4"
      }
     }
    },
    "59583b8a-8e20-48ef-94bc-85bf44119a52": {
     "id": "59583b8a-8e20-48ef-94bc-85bf44119a52",
     "prev": "4766f578-0a98-4785-9068-af9394f59911",
     "regions": {
      "4ecfb714-9504-4783-93b7-4d0e99d120c8": {
       "attrs": {
        "height": 0.8,
        "width": 0.8,
        "x": 0.1,
        "y": 0.1
       },
       "content": {
        "cell": "6c8ea7d7-0670-493e-a206-a3c3d39a0e03",
        "part": "whole"
       },
       "id": "4ecfb714-9504-4783-93b7-4d0e99d120c8"
      }
     }
    },
    "6d16c3c4-a69d-4b50-af53-9bdf5dc93495": {
     "id": "6d16c3c4-a69d-4b50-af53-9bdf5dc93495",
     "prev": null,
     "regions": {
      "d4b1fcf0-141f-45c3-9aa5-4b7a491179ff": {
       "attrs": {
        "height": 0.8,
        "width": 0.8,
        "x": 0.1,
        "y": 0.1
       },
       "content": {
        "cell": "151ebfdf-0a92-492f-924f-e60f2de5e64a",
        "part": "whole"
       },
       "id": "d4b1fcf0-141f-45c3-9aa5-4b7a491179ff"
      }
     }
    }
   },
   "themes": {
    "default": "3be93ed6-7fbb-4206-8803-391395fa7971",
    "theme": {
     "3be93ed6-7fbb-4206-8803-391395fa7971": {
      "id": "3be93ed6-7fbb-4206-8803-391395fa7971",
      "palette": {
       "19cc588f-0593-49c9-9f4b-e4d7cc113b1c": {
        "id": "19cc588f-0593-49c9-9f4b-e4d7cc113b1c",
        "rgb": [
         252,
         252,
         252
        ]
       },
       "31af15d2-7e15-44c5-ab5e-e04b16a89eff": {
        "id": "31af15d2-7e15-44c5-ab5e-e04b16a89eff",
        "rgb": [
         68,
         68,
         68
        ]
       },
       "50f92c45-a630-455b-aec3-788680ec7410": {
        "id": "50f92c45-a630-455b-aec3-788680ec7410",
        "rgb": [
         155,
         177,
         192
        ]
       },
       "c5cc3653-2ee1-402a-aba2-7caae1da4f6c": {
        "id": "c5cc3653-2ee1-402a-aba2-7caae1da4f6c",
        "rgb": [
         43,
         126,
         184
        ]
       },
       "efa7f048-9acb-414c-8b04-a26811511a21": {
        "id": "efa7f048-9acb-414c-8b04-a26811511a21",
        "rgb": [
         25.118061674008803,
         73.60176211453744,
         107.4819383259912
        ]
       }
      },
      "rules": {
       "blockquote": {
        "color": "50f92c45-a630-455b-aec3-788680ec7410"
       },
       "code": {
        "font-family": "Anonymous Pro"
       },
       "h1": {
        "color": "c5cc3653-2ee1-402a-aba2-7caae1da4f6c",
        "font-family": "Lato",
        "font-size": 8
       },
       "h2": {
        "color": "c5cc3653-2ee1-402a-aba2-7caae1da4f6c",
        "font-family": "Lato",
        "font-size": 6
       },
       "h3": {
        "color": "50f92c45-a630-455b-aec3-788680ec7410",
        "font-family": "Lato",
        "font-size": 5.5
       },
       "h4": {
        "color": "c5cc3653-2ee1-402a-aba2-7caae1da4f6c",
        "font-family": "Lato",
        "font-size": 5
       },
       "h5": {
        "font-family": "Lato"
       },
       "h6": {
        "font-family": "Lato"
       },
       "h7": {
        "font-family": "Lato"
       },
       "pre": {
        "font-family": "Anonymous Pro",
        "font-size": 4
       }
      },
      "text-base": {
       "font-family": "Merriweather",
       "font-size": 4
      }
     }
    }
   }
  }
 },
 "nbformat": 4,
 "nbformat_minor": 1
}
