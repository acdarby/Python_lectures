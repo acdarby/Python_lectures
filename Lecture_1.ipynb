{
 "cells": [
  {
   "cell_type": "markdown",
   "metadata": {
    "nbpresent": {
     "id": "f5c4202e-9f93-4c10-bf59-f4ab83b18e0f"
    }
   },
   "source": [
    "# Introduction to Programming in Python 3"
   ]
  },
  {
   "cell_type": "markdown",
   "metadata": {
    "nbpresent": {
     "id": "3525a0d4-2eb3-454e-b49e-fa05ea808b59"
    }
   },
   "source": [
    "# What is Python?"
   ]
  },
  {
   "cell_type": "markdown",
   "metadata": {
    "nbpresent": {
     "id": "a41e5f96-3a2d-4d16-a01f-55e466f4c33f"
    }
   },
   "source": [
    "- A programming language \n",
    "    - Set of commands that can be interpreted by a piece of software\n",
    "- Python is also the name of the software that interprets the commands (3 is a version)\n",
    "- Python can be installed on any computer (running Windows, Mac, linux OS) like any other piece of software"
   ]
  },
  {
   "cell_type": "markdown",
   "metadata": {
    "nbpresent": {
     "id": "c8ae3abc-8a37-49d0-8d83-44dd56ecdb4c"
    }
   },
   "source": [
    "FREE!! Graphical User Interface (GUI)  \n",
    "\n",
    "Anaconda - Download and installation \n",
    "https://www.continuum.io/downloads\n",
    "\n",
    "Pycharm – Download and installation\n",
    "https://www.jetbrains.com/pycharm/\n"
   ]
  },
  {
   "cell_type": "markdown",
   "metadata": {
    "nbpresent": {
     "id": "64ded700-2d4f-43bf-a9d5-dac9859f5389"
    }
   },
   "source": [
    "- PYTHON 2.7 \n",
    "    - Not supported but still popular \n",
    "    \n",
    "- PYTHON 3.5\n",
    "    - Latest version and supported \n",
    "    \n",
    "- There are differences in the code and you need to be careful!\n",
    "- We will use PYTHON 3.4 of higher in this module."
   ]
  }
 ],
 "metadata": {
  "anaconda-cloud": {},
  "kernelspec": {
   "display_name": "Python [conda root]",
   "language": "python",
   "name": "conda-root-py"
  },
  "language_info": {
   "codemirror_mode": {
    "name": "ipython",
    "version": 3
   },
   "file_extension": ".py",
   "mimetype": "text/x-python",
   "name": "python",
   "nbconvert_exporter": "python",
   "pygments_lexer": "ipython3",
   "version": "3.5.2"
  },
  "nbpresent": {
   "slides": {
    "0e07ca2c-dc9e-4c91-b2d8-7e1357d2f89a": {
     "id": "0e07ca2c-dc9e-4c91-b2d8-7e1357d2f89a",
     "prev": null,
     "regions": {}
    }
   },
   "themes": {}
  }
 },
 "nbformat": 4,
 "nbformat_minor": 1
}
