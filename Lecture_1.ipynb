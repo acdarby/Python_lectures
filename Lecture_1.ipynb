{
 "cells": [
  {
   "cell_type": "markdown",
   "metadata": {
    "nbpresent": {
     "id": "f5c4202e-9f93-4c10-bf59-f4ab83b18e0f"
    }
   },
   "source": [
    "# Introduction to Programming in Python 3"
   ]
  },
  {
   "cell_type": "markdown",
   "metadata": {
    "nbpresent": {
     "id": "3525a0d4-2eb3-454e-b49e-fa05ea808b59"
    }
   },
   "source": [
    "# What is Python?"
   ]
  },
  {
   "cell_type": "markdown",
   "metadata": {
    "nbpresent": {
     "id": "a41e5f96-3a2d-4d16-a01f-55e466f4c33f"
    }
   },
   "source": [
    "- A programming language \n",
    "    - Set of commands that can be interpreted by a piece of software\n",
    "- Python is also the name of the software that interprets the commands (3 is a version)\n",
    "- Python can be installed on any computer (running Windows, Mac, linux OS) like any other piece of software"
   ]
  },
  {
   "cell_type": "markdown",
   "metadata": {
    "nbpresent": {
     "id": "c8ae3abc-8a37-49d0-8d83-44dd56ecdb4c"
    }
   },
   "source": [
    "FREE!! Graphical User Interface (GUI)  \n",
    "\n",
    "Anaconda - Download and installation \n",
    "https://www.continuum.io/downloads\n",
    "\n",
    "Pycharm – Download and installation\n",
    "https://www.jetbrains.com/pycharm/\n"
   ]
  },
  {
   "cell_type": "markdown",
   "metadata": {
    "nbpresent": {
     "id": "64ded700-2d4f-43bf-a9d5-dac9859f5389"
    }
   },
   "source": [
    "- PYTHON 2.7 \n",
    "    - Not supported but still popular \n",
    "    \n",
    "- **PYTHON 3.5**\n",
    "    - Latest version and supported \n",
    "    \n",
    "- There are differences in the code and you need to be careful!\n",
    "- We will use `PYTHON 3.4` of higher in this module."
   ]
  },
  {
   "cell_type": "raw",
   "metadata": {},
   "source": [
    "![title](Anaconda.png)"
   ]
  },
  {
   "cell_type": "markdown",
   "metadata": {},
   "source": [
    "# Python Shells/Consoles\n",
    "\n",
    "- Friendly test zone\n",
    "- For testing code\n",
    "\n",
    "- OPEN CONSOLE ->\n",
    "\n",
    "![title](pycharm.png)\n"
   ]
  },
  {
   "cell_type": "markdown",
   "metadata": {},
   "source": [
    "# Python will evaluate Expressions that it is given"
   ]
  },
  {
   "cell_type": "code",
   "execution_count": 1,
   "metadata": {
    "collapsed": false
   },
   "outputs": [
    {
     "data": {
      "text/plain": [
       "8"
      ]
     },
     "execution_count": 1,
     "metadata": {},
     "output_type": "execute_result"
    }
   ],
   "source": [
    "3+5"
   ]
  },
  {
   "cell_type": "code",
   "execution_count": 2,
   "metadata": {
    "collapsed": false
   },
   "outputs": [
    {
     "data": {
      "text/plain": [
       "2.3"
      ]
     },
     "execution_count": 2,
     "metadata": {},
     "output_type": "execute_result"
    }
   ],
   "source": [
    "5.5 -3.2"
   ]
  },
  {
   "cell_type": "code",
   "execution_count": 3,
   "metadata": {
    "collapsed": false
   },
   "outputs": [
    {
     "data": {
      "text/plain": [
       "15"
      ]
     },
     "execution_count": 3,
     "metadata": {},
     "output_type": "execute_result"
    }
   ],
   "source": [
    "3*5"
   ]
  },
  {
   "cell_type": "code",
   "execution_count": 4,
   "metadata": {
    "collapsed": false
   },
   "outputs": [
    {
     "data": {
      "text/plain": [
       "True"
      ]
     },
     "execution_count": 4,
     "metadata": {},
     "output_type": "execute_result"
    }
   ],
   "source": [
    "5>4"
   ]
  },
  {
   "cell_type": "markdown",
   "metadata": {},
   "source": [
    "# If Python can't evaluate an expression *error* "
   ]
  },
  {
   "cell_type": "code",
   "execution_count": 5,
   "metadata": {
    "collapsed": false
   },
   "outputs": [
    {
     "ename": "ZeroDivisionError",
     "evalue": "division by zero",
     "output_type": "error",
     "traceback": [
      "\u001b[0;31m---------------------------------------------------------------------------\u001b[0m",
      "\u001b[0;31mZeroDivisionError\u001b[0m                         Traceback (most recent call last)",
      "\u001b[0;32m<ipython-input-5-2b706ee9dd8e>\u001b[0m in \u001b[0;36m<module>\u001b[0;34m()\u001b[0m\n\u001b[0;32m----> 1\u001b[0;31m \u001b[0;36m3\u001b[0m \u001b[0;34m/\u001b[0m \u001b[0;36m0\u001b[0m\u001b[0;34m\u001b[0m\u001b[0m\n\u001b[0m",
      "\u001b[0;31mZeroDivisionError\u001b[0m: division by zero"
     ]
    }
   ],
   "source": [
    "3 / 0"
   ]
  },
  {
   "cell_type": "markdown",
   "metadata": {},
   "source": [
    "In python you can save values as ** variables ** using the ** = ** sign\n",
    "This variable can be used instead of the full value  expressions are evaluated before being stored "
   ]
  },
  {
   "cell_type": "code",
   "execution_count": null,
   "metadata": {
    "collapsed": false
   },
   "outputs": [],
   "source": [
    "a=3\n",
    "a"
   ]
  },
  {
   "cell_type": "code",
   "execution_count": null,
   "metadata": {
    "collapsed": false
   },
   "outputs": [],
   "source": [
    "a*2"
   ]
  },
  {
   "cell_type": "code",
   "execution_count": null,
   "metadata": {
    "collapsed": false
   },
   "outputs": [],
   "source": [
    "b=5*2\n",
    "b"
   ]
  },
  {
   "cell_type": "code",
   "execution_count": null,
   "metadata": {
    "collapsed": false
   },
   "outputs": [],
   "source": [
    "c =a+b\n",
    "c"
   ]
  },
  {
   "cell_type": "markdown",
   "metadata": {},
   "source": [
    "Virtually everything in python is an **Object**.\n",
    "\n",
    "Objects come in different types here are some examples:\n",
    "\n",
    "- `bool` (short for boolean) is a True or False\n",
    "- `int` (short for integer) is a whole number\n",
    "- `str` (short for string) is text\n",
    "- `float` is a number with a decimal point.\n",
    "\n",
    "Python will automatically assign a type but you can and should override this when needed.\n"
   ]
  },
  {
   "cell_type": "code",
   "execution_count": null,
   "metadata": {
    "collapsed": true
   },
   "outputs": [],
   "source": [
    "Operations on variables"
   ]
  },
  {
   "cell_type": "code",
   "execution_count": null,
   "metadata": {
    "collapsed": false
   },
   "outputs": [],
   "source": [
    "first_name = \"Alistair\"\n",
    "last_name = \"Darby\"\n",
    "fullname = first_name + last_name\n",
    "print (fullname)"
   ]
  },
  {
   "cell_type": "markdown",
   "metadata": {},
   "source": [
    "When used with strings the '+' operator will concatenate them\n",
    "\n",
    "When used with numbers  '+' will behave as you would expect"
   ]
  },
  {
   "cell_type": "code",
   "execution_count": null,
   "metadata": {
    "collapsed": false
   },
   "outputs": [],
   "source": [
    "aphids = 5\n",
    "beetles = 12\n",
    "total_insects = aphids + beetles\n",
    "print (\"Number of insects = \", total_insects)"
   ]
  },
  {
   "cell_type": "code",
   "execution_count": null,
   "metadata": {
    "collapsed": false
   },
   "outputs": [],
   "source": [
    "aphids = 5\n",
    "beetles = 12\n",
    "total_insects = Aphids + Beetles\n",
    "total_insects_string = str(total_insects)\n",
    "print(\"Number of insects = \" + total_insects_string)"
   ]
  },
  {
   "cell_type": "markdown",
   "metadata": {},
   "source": [
    "The `str()` function will attempt to convert a value into a human-readable string (e.g. 1 becomes “1”) which can then be concatenated.\n",
    "In this case it is only necessary to convert to a string because we are using concatenate (+) in the print statement. When using the normal (,) print will automatically interpret the variable."
   ]
  },
  {
   "cell_type": "code",
   "execution_count": null,
   "metadata": {
    "collapsed": true
   },
   "outputs": [],
   "source": [
    "aphids = \"5\"\n",
    "plants = \"12\"\n",
    "total_insects = aphids * plants\n",
    "print(\"Number of insects = \", total_insects)"
   ]
  },
  {
   "cell_type": "code",
   "execution_count": null,
   "metadata": {
    "collapsed": false
   },
   "outputs": [],
   "source": [
    "aphids = \"5\"\n",
    "plants = \"12\"\n",
    "total_insects = int(aphids) * int(plants)\n",
    "print(\"Number of aphids = \" , total_insects)"
   ]
  },
  {
   "cell_type": "markdown",
   "metadata": {},
   "source": [
    "The `int()` function will attempt to convert a value into integer (e.g. “1” becomes 1) which can then be used in mathematical operations"
   ]
  },
  {
   "cell_type": "markdown",
   "metadata": {},
   "source": [
    "# Functions in Python"
   ]
  },
  {
   "cell_type": "markdown",
   "metadata": {},
   "source": [
    "A function is some Python code that has been pre-written to do something useful (you will learn how to write your own later)\n",
    "\n",
    "Some simple functions are built in:\n",
    "- `print()` \tprints out a string to the screen\n",
    "- `len()`\treturns the length (e.g. characters in a string)\n",
    "- `str()`\tattempts to convert a value to a string\n",
    "- `int()`\tattempts to convert a value to an integer\n",
    "- `float()`\tattempts to convert a value to a floating-point \n",
    "\n",
    "Functions can also be associated with certain types of value. These are known as methods (more about these later!)\n",
    "\n",
    "- `str.upper()` converts a string to upper case"
   ]
  },
  {
   "cell_type": "markdown",
   "metadata": {},
   "source": [
    "# Using some Python functions"
   ]
  },
  {
   "cell_type": "code",
   "execution_count": null,
   "metadata": {
    "collapsed": false
   },
   "outputs": [],
   "source": [
    "some_dna = \"atcgacgtacgtg\"\n",
    "dna_length = len(some_dna)\n",
    "big_dna = str.upper(some_dna)\n",
    "print (\"The length of \" , big_dna ,  \" is \" , dna_length , \"\\n\")"
   ]
  },
  {
   "cell_type": "markdown",
   "metadata": {},
   "source": [
    "# Special characters in Strings"
   ]
  },
  {
   "cell_type": "markdown",
   "metadata": {},
   "source": [
    "Strings can contain non-text characters with special meanings\n",
    "Most useful are:\n",
    "\n",
    "\\n\tnewline (end of line character)\n",
    "\\t \ttab\n"
   ]
  },
  {
   "cell_type": "code",
   "execution_count": null,
   "metadata": {
    "collapsed": false
   },
   "outputs": [],
   "source": [
    "print(\"Hello, World!\\n\")    # adds a new line at the end\n",
    "print(\"Hello\\tWorld!\")       # puts a tab character in"
   ]
  },
  {
   "cell_type": "markdown",
   "metadata": {},
   "source": [
    "# Comments and documentation"
   ]
  },
  {
   "cell_type": "markdown",
   "metadata": {},
   "source": [
    "Very important to document your scripts\n",
    "Add useful comments to explain purpose\n",
    "Makes it easier for you and easier for someone else to re-use or understand what you’re doing\n",
    "\n",
    "‘#’ makes the program ignore everything that follows it on that line"
   ]
  },
  {
   "cell_type": "markdown",
   "metadata": {},
   "source": [
    "# For example…"
   ]
  },
  {
   "cell_type": "code",
   "execution_count": null,
   "metadata": {
    "collapsed": false
   },
   "outputs": [],
   "source": [
    "# This code demonstrates some basic string operations\n",
    "some_dna = \"atcgacgtacgtg\" # define the dna string\n",
    "\n",
    "# the following section contains the string operations\n",
    "dna_length = len(some_dna) # return the string length\n",
    "big_dna = str.upper(some_dna) # convert the string to uppercase\n",
    "\n",
    "# print the outputs and convert dna_length to a string\n",
    "print(\"The length of \" , big_dna ,  \" is \" , str(dna_length) , \"\\n\")"
   ]
  },
  {
   "cell_type": "markdown",
   "metadata": {},
   "source": [
    "# Getting user input"
   ]
  },
  {
   "cell_type": "markdown",
   "metadata": {},
   "source": [
    "The `input()` function makes the program wait for the user to input something on the keyboard and hit enter before continuing"
   ]
  },
  {
   "cell_type": "code",
   "execution_count": null,
   "metadata": {
    "collapsed": false
   },
   "outputs": [],
   "source": [
    "name = input()"
   ]
  },
  {
   "cell_type": "markdown",
   "metadata": {},
   "source": [
    "You can also add an input prompt"
   ]
  },
  {
   "cell_type": "markdown",
   "metadata": {},
   "source": [
    "name = input(\"What is your name?\")\n",
    "print(\"Hello \", name, \"!\")"
   ]
  },
  {
   "cell_type": "markdown",
   "metadata": {},
   "source": [
    "# Incorporating input"
   ]
  },
  {
   "cell_type": "code",
   "execution_count": null,
   "metadata": {
    "collapsed": false
   },
   "outputs": [],
   "source": [
    "# This script calculates the number of cats you need\n",
    "rooms = input(\"How many rooms do you have? \")\n",
    "cats = input(\"How many cats fit in a room? \")\n",
    "Total_cats = int(rooms) * int(cats)\n",
    "print(\"You require \" , Total_cats , \" cats\")"
   ]
  },
  {
   "cell_type": "markdown",
   "metadata": {},
   "source": [
    "# Modules in Python"
   ]
  },
  {
   "cell_type": "markdown",
   "metadata": {},
   "source": [
    "- There is no need to re-invent the wheel - unless you’re learning!\n",
    "- Modules are pre-written pieces of code (such as useful functions) that are designed for specific tasks\n",
    "- You need to call these at the top of the script \n",
    "- Before you use a module you have to reference it in your script like this:"
   ]
  },
  {
   "cell_type": "code",
   "execution_count": null,
   "metadata": {
    "collapsed": true
   },
   "outputs": [],
   "source": [
    "from math import *"
   ]
  },
  {
   "cell_type": "markdown",
   "metadata": {},
   "source": [
    "- `math` is the name of the module\n",
    "- An asterisk in this context means ‘everything in the module’. \n",
    "Alternatively you can put the specific function you want to use here"
   ]
  },
  {
   "cell_type": "code",
   "execution_count": null,
   "metadata": {
    "collapsed": false
   },
   "outputs": [],
   "source": [
    "from math import *\n",
    "a = log10(1000000)\n",
    "print(str(a))"
   ]
  },
  {
   "cell_type": "markdown",
   "metadata": {},
   "source": [
    "An asterisk in this context means ‘everything in the module’. "
   ]
  },
  {
   "cell_type": "code",
   "execution_count": null,
   "metadata": {
    "collapsed": false
   },
   "outputs": [],
   "source": [
    "from math import log10\n",
    "a = log10(1000000)\n",
    "print(str(a))"
   ]
  },
  {
   "cell_type": "markdown",
   "metadata": {},
   "source": [
    "Alternatively you can put the specific function you want to load here."
   ]
  },
  {
   "cell_type": "code",
   "execution_count": null,
   "metadata": {
    "collapsed": true
   },
   "outputs": [],
   "source": [
    "# Regular expressions"
   ]
  },
  {
   "cell_type": "markdown",
   "metadata": {},
   "source": [
    "- These are incredibly useful (topic of a later lecture)\n",
    "    - Way of matching and manipulating strings e.g. “Find and replace” operation\n",
    "- One example is sub()\n",
    "    - Substitutes one pattern in a string for another"
   ]
  },
  {
   "cell_type": "code",
   "execution_count": null,
   "metadata": {
    "collapsed": false
   },
   "outputs": [],
   "source": [
    "from re import sub\n",
    "string = \"Al Darbi\"\n",
    "string_mod1 = sub('l','C',string)\n",
    "string_mod2 = sub('i','y',string_mod1)\n",
    "print(string)\n",
    "print(string_mod2)"
   ]
  },
  {
   "cell_type": "markdown",
   "metadata": {},
   "source": [
    "You will hear lots more about regular expressions later on, but there is just one example included here, in case you’re interested in reading more about them (might also be useful for the part of the assignment...)"
   ]
  },
  {
   "cell_type": "markdown",
   "metadata": {},
   "source": [
    "# Making errors / refining scripts"
   ]
  },
  {
   "cell_type": "markdown",
   "metadata": {},
   "source": [
    "- Scripts almost never work first time\n",
    "- Usually require fixing small mistakes:\n",
    "    - Syntax (i.e. Python gives an error when you try to run)\n",
    "    - Runtime (something goes wrong while it is running)\n",
    "    - Logic (script doesn’t behave as you expect)\n",
    "- Often error messages are not very informative\n",
    "    - Takes a bit of practice to work out what might be causing an error\n",
    "\n",
    "Tip: One way to check for syntax errors is to read each line of code from the end to the beginning. This forces you to look at each line without attaching meaning.\n"
   ]
  },
  {
   "cell_type": "markdown",
   "metadata": {},
   "source": [
    "# Syntax Errors"
   ]
  },
  {
   "cell_type": "markdown",
   "metadata": {},
   "source": [
    "Most syntax errors are due to incorrect formatting like:\n",
    "Missing matching quotes  "
   ]
  },
  {
   "cell_type": "code",
   "execution_count": null,
   "metadata": {
    "collapsed": false
   },
   "outputs": [],
   "source": [
    "name = \"Darby\n",
    "print(name)"
   ]
  },
  {
   "cell_type": "markdown",
   "metadata": {},
   "source": [
    "Missing brackets"
   ]
  },
  {
   "cell_type": "code",
   "execution_count": null,
   "metadata": {
    "collapsed": false
   },
   "outputs": [],
   "source": [
    "x = (y + z"
   ]
  },
  {
   "cell_type": "markdown",
   "metadata": {},
   "source": [
    "Variable name spelling or capitalisation\n",
    "Indentation (covered in a later lecture)"
   ]
  },
  {
   "cell_type": "markdown",
   "metadata": {},
   "source": [
    "# Runtime errors"
   ]
  },
  {
   "cell_type": "code",
   "execution_count": null,
   "metadata": {
    "collapsed": false
   },
   "outputs": [],
   "source": [
    "x = 6\n",
    "y = 0\n",
    "z = x / y\n",
    "print (z)"
   ]
  },
  {
   "cell_type": "markdown",
   "metadata": {},
   "source": [
    "# logic errors"
   ]
  },
  {
   "cell_type": "markdown",
   "metadata": {},
   "source": [
    "- Logic errors are harder to identify\n",
    "    - May cause unintended behaviour rather than a crash\n",
    "    - Example: ordering of math operations"
   ]
  },
  {
   "cell_type": "code",
   "execution_count": null,
   "metadata": {
    "collapsed": false
   },
   "outputs": [],
   "source": [
    "x = 3\n",
    "y = 7\n",
    "average = x + y / 2\n",
    "print(average)"
   ]
  },
  {
   "cell_type": "markdown",
   "metadata": {},
   "source": [
    "Note: Knowing how to fix errors in the logic comes with practice, good commenting of your code and planning your code before you write it (e.g. Draw a flow diagram)"
   ]
  },
  {
   "cell_type": "code",
   "execution_count": null,
   "metadata": {
    "collapsed": false
   },
   "outputs": [],
   "source": [
    "x = 3\n",
    "y = 7\n",
    "average = (x + y) / 2\n",
    "print(average)"
   ]
  },
  {
   "cell_type": "markdown",
   "metadata": {},
   "source": [
    "# Summary"
   ]
  },
  {
   "cell_type": "markdown",
   "metadata": {},
   "source": [
    "- Brief intro to Python and the shell\n",
    "- Variables \n",
    "- Operations on variables\n",
    "- Variable types and type setting\n",
    "- Built-in Functions\n",
    "- User input\n",
    "- Fixing basic errors\n",
    "\n",
    "** Now you have to try these out for yourself... **\n",
    "\n"
   ]
  },
  {
   "cell_type": "code",
   "execution_count": null,
   "metadata": {
    "collapsed": true
   },
   "outputs": [],
   "source": []
  }
 ],
 "metadata": {
  "anaconda-cloud": {},
  "kernelspec": {
   "display_name": "Python [conda root]",
   "language": "python",
   "name": "conda-root-py"
  },
  "language_info": {
   "codemirror_mode": {
    "name": "ipython",
    "version": 3
   },
   "file_extension": ".py",
   "mimetype": "text/x-python",
   "name": "python",
   "nbconvert_exporter": "python",
   "pygments_lexer": "ipython3",
   "version": "3.5.2"
  },
  "nbpresent": {
   "slides": {
    "0e07ca2c-dc9e-4c91-b2d8-7e1357d2f89a": {
     "id": "0e07ca2c-dc9e-4c91-b2d8-7e1357d2f89a",
     "prev": null,
     "regions": {}
    }
   },
   "themes": {}
  }
 },
 "nbformat": 4,
 "nbformat_minor": 1
}
